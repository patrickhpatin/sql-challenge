{
 "cells": [
  {
   "cell_type": "markdown",
   "metadata": {},
   "source": [
    "# SQL Challenge\n",
    "\n",
    "## Assumptions for the TA grading my assignment:\n",
    "\n",
    "### 1. You are using a postgres database\n",
    "### 2. Your database uses port 5432\n",
    "### 3. You will need to edit the \"databaseconfig.py\" file with your connection information\n",
    "\n",
    "\n",
    "### I know it's a bit early but...\n",
    "\n",
    "\n",
    "<img src=\"AprilFools.png\" alt=\"April Fools!\" style=\"border: none;\" /><br>\n"
   ]
  },
  {
   "cell_type": "code",
   "execution_count": 1,
   "metadata": {},
   "outputs": [],
   "source": [
    "# Dependencies\n",
    "import psycopg2\n",
    "import pandas as pd\n",
    "import databaseconfig as cfg\n",
    "import pandas.io.sql as sqlio\n",
    "import matplotlib.pyplot as plt\n",
    "\n",
    "from pandas import DataFrame\n",
    "from sqlalchemy import create_engine"
   ]
  },
  {
   "cell_type": "code",
   "execution_count": 2,
   "metadata": {},
   "outputs": [
    {
     "data": {
      "text/html": [
       "<div>\n",
       "<style scoped>\n",
       "    .dataframe tbody tr th:only-of-type {\n",
       "        vertical-align: middle;\n",
       "    }\n",
       "\n",
       "    .dataframe tbody tr th {\n",
       "        vertical-align: top;\n",
       "    }\n",
       "\n",
       "    .dataframe thead th {\n",
       "        text-align: right;\n",
       "    }\n",
       "</style>\n",
       "<table border=\"1\" class=\"dataframe\">\n",
       "  <thead>\n",
       "    <tr style=\"text-align: right;\">\n",
       "      <th></th>\n",
       "      <th>id</th>\n",
       "      <th>emp_no</th>\n",
       "      <th>salary</th>\n",
       "      <th>from_date</th>\n",
       "      <th>to_date</th>\n",
       "    </tr>\n",
       "  </thead>\n",
       "  <tbody>\n",
       "    <tr>\n",
       "      <th>0</th>\n",
       "      <td>14024</td>\n",
       "      <td>24024</td>\n",
       "      <td>40000</td>\n",
       "      <td>1993-03-14</td>\n",
       "      <td>1994-03-14</td>\n",
       "    </tr>\n",
       "    <tr>\n",
       "      <th>1</th>\n",
       "      <td>40329</td>\n",
       "      <td>50329</td>\n",
       "      <td>40000</td>\n",
       "      <td>1994-12-17</td>\n",
       "      <td>1995-12-17</td>\n",
       "    </tr>\n",
       "    <tr>\n",
       "      <th>2</th>\n",
       "      <td>16406</td>\n",
       "      <td>26406</td>\n",
       "      <td>40000</td>\n",
       "      <td>1993-04-12</td>\n",
       "      <td>1994-04-12</td>\n",
       "    </tr>\n",
       "    <tr>\n",
       "      <th>3</th>\n",
       "      <td>16397</td>\n",
       "      <td>26397</td>\n",
       "      <td>40000</td>\n",
       "      <td>1995-01-12</td>\n",
       "      <td>1996-01-12</td>\n",
       "    </tr>\n",
       "    <tr>\n",
       "      <th>4</th>\n",
       "      <td>12743</td>\n",
       "      <td>22743</td>\n",
       "      <td>40000</td>\n",
       "      <td>1999-10-30</td>\n",
       "      <td>2000-10-29</td>\n",
       "    </tr>\n",
       "    <tr>\n",
       "      <th>...</th>\n",
       "      <td>...</td>\n",
       "      <td>...</td>\n",
       "      <td>...</td>\n",
       "      <td>...</td>\n",
       "      <td>...</td>\n",
       "    </tr>\n",
       "    <tr>\n",
       "      <th>300019</th>\n",
       "      <td>27558</td>\n",
       "      <td>37558</td>\n",
       "      <td>125469</td>\n",
       "      <td>1989-02-23</td>\n",
       "      <td>1990-02-23</td>\n",
       "    </tr>\n",
       "    <tr>\n",
       "      <th>300020</th>\n",
       "      <td>258327</td>\n",
       "      <td>458302</td>\n",
       "      <td>126703</td>\n",
       "      <td>1998-10-05</td>\n",
       "      <td>1999-10-05</td>\n",
       "    </tr>\n",
       "    <tr>\n",
       "      <th>300021</th>\n",
       "      <td>244781</td>\n",
       "      <td>444756</td>\n",
       "      <td>127041</td>\n",
       "      <td>1999-06-14</td>\n",
       "      <td>2000-06-13</td>\n",
       "    </tr>\n",
       "    <tr>\n",
       "      <th>300022</th>\n",
       "      <td>34188</td>\n",
       "      <td>44188</td>\n",
       "      <td>127238</td>\n",
       "      <td>1991-03-16</td>\n",
       "      <td>1992-03-15</td>\n",
       "    </tr>\n",
       "    <tr>\n",
       "      <th>300023</th>\n",
       "      <td>105025</td>\n",
       "      <td>205000</td>\n",
       "      <td>129492</td>\n",
       "      <td>1991-10-12</td>\n",
       "      <td>1992-10-11</td>\n",
       "    </tr>\n",
       "  </tbody>\n",
       "</table>\n",
       "<p>300024 rows × 5 columns</p>\n",
       "</div>"
      ],
      "text/plain": [
       "            id  emp_no  salary   from_date     to_date\n",
       "0        14024   24024   40000  1993-03-14  1994-03-14\n",
       "1        40329   50329   40000  1994-12-17  1995-12-17\n",
       "2        16406   26406   40000  1993-04-12  1994-04-12\n",
       "3        16397   26397   40000  1995-01-12  1996-01-12\n",
       "4        12743   22743   40000  1999-10-30  2000-10-29\n",
       "...        ...     ...     ...         ...         ...\n",
       "300019   27558   37558  125469  1989-02-23  1990-02-23\n",
       "300020  258327  458302  126703  1998-10-05  1999-10-05\n",
       "300021  244781  444756  127041  1999-06-14  2000-06-13\n",
       "300022   34188   44188  127238  1991-03-16  1992-03-15\n",
       "300023  105025  205000  129492  1991-10-12  1992-10-11\n",
       "\n",
       "[300024 rows x 5 columns]"
      ]
     },
     "execution_count": 2,
     "metadata": {},
     "output_type": "execute_result"
    }
   ],
   "source": [
    "# Database connection string\n",
    "engine = create_engine(f\"postgresql://{cfg.mysql['user']}:{cfg.mysql['passwd']}@{cfg.mysql['host']}:5432/{cfg.mysql['db']}\")\n",
    "\n",
    "# Create a database connection\n",
    "conn = engine.connect()\n",
    "\n",
    "# Pull salary information from our database\n",
    "sql = \"SELECT * FROM salaries ORDER BY salary ASC;\"\n",
    "df_salary = pd.read_sql(sql, conn)\n",
    "\n",
    "# Pull average salaries by department\n",
    "sql = \"SELECT d.dept_name AS Dept_Name, AVG(sal.Salary) AS Avg_Salary FROM salaries AS sal \"\n",
    "sql = sql + \"INNER JOIN dept_emp AS de ON de.emp_no = sal.emp_no INNER JOIN departments AS d ON d.dept_no = de.dept_no \"\n",
    "sql = sql + \"GROUP BY d.dept_name ORDER BY d.dept_name ASC;\"\n",
    "df_avgsalary = pd.read_sql(sql, conn)\n",
    "\n",
    "# Where's Waldo?\n",
    "sql = \"SELECT emp_no, first_name, last_name FROM employees WHERE emp_no = 499942;\"\n",
    "df_myself = pd.read_sql(sql, conn)\n",
    "\n",
    "# Make sure we close our connection to the database\n",
    "conn.close()\n",
    "\n",
    "df_salary"
   ]
  },
  {
   "cell_type": "code",
   "execution_count": 3,
   "metadata": {},
   "outputs": [
    {
     "data": {
      "text/plain": [
       "('$40,000', '$129,492')"
      ]
     },
     "execution_count": 3,
     "metadata": {},
     "output_type": "execute_result"
    }
   ],
   "source": [
    "# Min & Max Salaries\n",
    "min_salary = '${:0,.0f}'.format(df_salary[\"salary\"].min())\n",
    "max_salary = '${:0,.0f}'.format(df_salary[\"salary\"].max())\n",
    "\n",
    "# Show our min and max salaries\n",
    "min_salary, max_salary"
   ]
  },
  {
   "cell_type": "code",
   "execution_count": 4,
   "metadata": {},
   "outputs": [
    {
     "data": {
      "image/png": "[encoded data removed]",
      "text/plain": [
       "<Figure size 432x288 with 1 Axes>"
      ]
     },
     "metadata": {
      "needs_background": "light"
     },
     "output_type": "display_data"
    }
   ],
   "source": [
    "# Histogram\n",
    "df_salary.hist(column=\"salary\")\n",
    "plt.xlabel(\"Salary\", fontsize=15)\n",
    "plt.ylabel(\"Salary Value Frequency\",fontsize=15)\n",
    "plt.ylim(0, 160000)\n",
    "plt.title(\"Salary Value Frequency vs. Salary (No Rounding)\", fontsize=18)\n",
    "plt.show()"
   ]
  },
  {
   "cell_type": "code",
   "execution_count": 5,
   "metadata": {},
   "outputs": [
    {
     "data": {
      "text/html": [
       "<div>\n",
       "<style scoped>\n",
       "    .dataframe tbody tr th:only-of-type {\n",
       "        vertical-align: middle;\n",
       "    }\n",
       "\n",
       "    .dataframe tbody tr th {\n",
       "        vertical-align: top;\n",
       "    }\n",
       "\n",
       "    .dataframe thead th {\n",
       "        text-align: right;\n",
       "    }\n",
       "</style>\n",
       "<table border=\"1\" class=\"dataframe\">\n",
       "  <thead>\n",
       "    <tr style=\"text-align: right;\">\n",
       "      <th></th>\n",
       "      <th>dept_name</th>\n",
       "      <th>avg_salary</th>\n",
       "    </tr>\n",
       "  </thead>\n",
       "  <tbody>\n",
       "    <tr>\n",
       "      <th>0</th>\n",
       "      <td>Customer Service</td>\n",
       "      <td>47998.67</td>\n",
       "    </tr>\n",
       "    <tr>\n",
       "      <th>1</th>\n",
       "      <td>Development</td>\n",
       "      <td>48697.33</td>\n",
       "    </tr>\n",
       "    <tr>\n",
       "      <th>2</th>\n",
       "      <td>Finance</td>\n",
       "      <td>59533.52</td>\n",
       "    </tr>\n",
       "    <tr>\n",
       "      <th>3</th>\n",
       "      <td>Human Resources</td>\n",
       "      <td>44678.65</td>\n",
       "    </tr>\n",
       "    <tr>\n",
       "      <th>4</th>\n",
       "      <td>Marketing</td>\n",
       "      <td>61095.90</td>\n",
       "    </tr>\n",
       "    <tr>\n",
       "      <th>5</th>\n",
       "      <td>Production</td>\n",
       "      <td>48760.45</td>\n",
       "    </tr>\n",
       "    <tr>\n",
       "      <th>6</th>\n",
       "      <td>Quality Management</td>\n",
       "      <td>46456.01</td>\n",
       "    </tr>\n",
       "    <tr>\n",
       "      <th>7</th>\n",
       "      <td>Research</td>\n",
       "      <td>48850.19</td>\n",
       "    </tr>\n",
       "    <tr>\n",
       "      <th>8</th>\n",
       "      <td>Sales</td>\n",
       "      <td>69832.13</td>\n",
       "    </tr>\n",
       "  </tbody>\n",
       "</table>\n",
       "</div>"
      ],
      "text/plain": [
       "            dept_name avg_salary\n",
       "0    Customer Service   47998.67\n",
       "1         Development   48697.33\n",
       "2             Finance   59533.52\n",
       "3     Human Resources   44678.65\n",
       "4           Marketing   61095.90\n",
       "5          Production   48760.45\n",
       "6  Quality Management   46456.01\n",
       "7            Research   48850.19\n",
       "8               Sales   69832.13"
      ]
     },
     "execution_count": 5,
     "metadata": {},
     "output_type": "execute_result"
    }
   ],
   "source": [
    "# Format average salaries and round to 2 decimal places\n",
    "df_avgsalary[\"avg_salary\"] = df_avgsalary[\"avg_salary\"].astype(float).map('{:.2f}'.format)\n",
    "\n",
    "# Show our data\n",
    "df_avgsalary"
   ]
  },
  {
   "cell_type": "code",
   "execution_count": 6,
   "metadata": {},
   "outputs": [
    {
     "data": {
      "image/png": "[encoded data removed]",
      "text/plain": [
       "<Figure size 1224x720 with 1 Axes>"
      ]
     },
     "metadata": {
      "needs_background": "light"
     },
     "output_type": "display_data"
    }
   ],
   "source": [
    "# Generate a bar plot showing the average salary by department\n",
    "fig=plt.figure(figsize=(17,10))\n",
    "plt.bar(df_avgsalary[\"dept_name\"], df_avgsalary[\"avg_salary\"])\n",
    "\n",
    "# Formatting\n",
    "plt.title(\"Average Salary By Department\", fontsize=18)\n",
    "plt.xlabel(\"Department\", fontsize=15)\n",
    "plt.ylabel(\"Average Salary\", fontsize=15)\n",
    "plt.xticks(rotation=70)\n",
    "\n",
    "# Show the chart\n",
    "plt.show()"
   ]
  },
  {
   "cell_type": "code",
   "execution_count": 7,
   "metadata": {},
   "outputs": [
    {
     "data": {
      "text/html": [
       "<div>\n",
       "<style scoped>\n",
       "    .dataframe tbody tr th:only-of-type {\n",
       "        vertical-align: middle;\n",
       "    }\n",
       "\n",
       "    .dataframe tbody tr th {\n",
       "        vertical-align: top;\n",
       "    }\n",
       "\n",
       "    .dataframe thead th {\n",
       "        text-align: right;\n",
       "    }\n",
       "</style>\n",
       "<table border=\"1\" class=\"dataframe\">\n",
       "  <thead>\n",
       "    <tr style=\"text-align: right;\">\n",
       "      <th></th>\n",
       "      <th>emp_no</th>\n",
       "      <th>first_name</th>\n",
       "      <th>last_name</th>\n",
       "    </tr>\n",
       "  </thead>\n",
       "  <tbody>\n",
       "    <tr>\n",
       "      <th>0</th>\n",
       "      <td>499942</td>\n",
       "      <td>April</td>\n",
       "      <td>Foolsday</td>\n",
       "    </tr>\n",
       "  </tbody>\n",
       "</table>\n",
       "</div>"
      ],
      "text/plain": [
       "   emp_no first_name last_name\n",
       "0  499942      April  Foolsday"
      ]
     },
     "execution_count": 7,
     "metadata": {},
     "output_type": "execute_result"
    }
   ],
   "source": [
    "# Find myself:  Employee_ID = 499942\n",
    "df_myself"
   ]
  }
 ],
 "metadata": {
  "kernelspec": {
   "display_name": "Python 3",
   "language": "python",
   "name": "python3"
  },
  "language_info": {
   "codemirror_mode": {
    "name": "ipython",
    "version": 3
   },
   "file_extension": ".py",
   "mimetype": "text/x-python",
   "name": "python",
   "nbconvert_exporter": "python",
   "pygments_lexer": "ipython3",
   "version": "3.7.4"
  }
 },
 "nbformat": 4,
 "nbformat_minor": 2
}
